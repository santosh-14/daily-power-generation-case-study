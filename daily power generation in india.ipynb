{
 "cells": [
  {
   "cell_type": "code",
   "execution_count": 3,
   "id": "f720e152",
   "metadata": {},
   "outputs": [],
   "source": [
    "import pandas as pd\n",
    "import numpy as np\n",
    "import matplotlib.pyplot as plt"
   ]
  },
  {
   "cell_type": "code",
   "execution_count": 4,
   "id": "3396779d",
   "metadata": {},
   "outputs": [
    {
     "data": {
      "text/html": [
       "<div>\n",
       "<style scoped>\n",
       "    .dataframe tbody tr th:only-of-type {\n",
       "        vertical-align: middle;\n",
       "    }\n",
       "\n",
       "    .dataframe tbody tr th {\n",
       "        vertical-align: top;\n",
       "    }\n",
       "\n",
       "    .dataframe thead th {\n",
       "        text-align: right;\n",
       "    }\n",
       "</style>\n",
       "<table border=\"1\" class=\"dataframe\">\n",
       "  <thead>\n",
       "    <tr style=\"text-align: right;\">\n",
       "      <th></th>\n",
       "      <th>index</th>\n",
       "      <th>Date</th>\n",
       "      <th>Region</th>\n",
       "      <th>Thermal Generation Actual (in MU)</th>\n",
       "      <th>Thermal Generation Estimated (in MU)</th>\n",
       "      <th>Nuclear Generation Actual (in MU)</th>\n",
       "      <th>Nuclear Generation Estimated (in MU)</th>\n",
       "      <th>Hydro Generation Actual (in MU)</th>\n",
       "      <th>Hydro Generation Estimated (in MU)</th>\n",
       "    </tr>\n",
       "  </thead>\n",
       "  <tbody>\n",
       "    <tr>\n",
       "      <th>0</th>\n",
       "      <td>0</td>\n",
       "      <td>2017-09-01</td>\n",
       "      <td>Northern</td>\n",
       "      <td>624.23</td>\n",
       "      <td>484.21</td>\n",
       "      <td>30.36</td>\n",
       "      <td>35.57</td>\n",
       "      <td>273.27</td>\n",
       "      <td>320.81</td>\n",
       "    </tr>\n",
       "    <tr>\n",
       "      <th>1</th>\n",
       "      <td>1</td>\n",
       "      <td>2017-09-01</td>\n",
       "      <td>Western</td>\n",
       "      <td>1,106.89</td>\n",
       "      <td>1,024.33</td>\n",
       "      <td>25.17</td>\n",
       "      <td>3.81</td>\n",
       "      <td>72.00</td>\n",
       "      <td>21.53</td>\n",
       "    </tr>\n",
       "    <tr>\n",
       "      <th>2</th>\n",
       "      <td>2</td>\n",
       "      <td>2017-09-01</td>\n",
       "      <td>Southern</td>\n",
       "      <td>576.66</td>\n",
       "      <td>578.55</td>\n",
       "      <td>62.73</td>\n",
       "      <td>49.80</td>\n",
       "      <td>111.57</td>\n",
       "      <td>64.78</td>\n",
       "    </tr>\n",
       "    <tr>\n",
       "      <th>3</th>\n",
       "      <td>3</td>\n",
       "      <td>2017-09-01</td>\n",
       "      <td>Eastern</td>\n",
       "      <td>441.02</td>\n",
       "      <td>429.39</td>\n",
       "      <td>NaN</td>\n",
       "      <td>NaN</td>\n",
       "      <td>85.94</td>\n",
       "      <td>69.36</td>\n",
       "    </tr>\n",
       "    <tr>\n",
       "      <th>4</th>\n",
       "      <td>4</td>\n",
       "      <td>2017-09-01</td>\n",
       "      <td>NorthEastern</td>\n",
       "      <td>29.11</td>\n",
       "      <td>15.91</td>\n",
       "      <td>NaN</td>\n",
       "      <td>NaN</td>\n",
       "      <td>24.64</td>\n",
       "      <td>21.21</td>\n",
       "    </tr>\n",
       "  </tbody>\n",
       "</table>\n",
       "</div>"
      ],
      "text/plain": [
       "   index        Date        Region Thermal Generation Actual (in MU)  \\\n",
       "0      0  2017-09-01      Northern                            624.23   \n",
       "1      1  2017-09-01       Western                          1,106.89   \n",
       "2      2  2017-09-01      Southern                            576.66   \n",
       "3      3  2017-09-01       Eastern                            441.02   \n",
       "4      4  2017-09-01  NorthEastern                             29.11   \n",
       "\n",
       "  Thermal Generation Estimated (in MU)  Nuclear Generation Actual (in MU)  \\\n",
       "0                               484.21                              30.36   \n",
       "1                             1,024.33                              25.17   \n",
       "2                               578.55                              62.73   \n",
       "3                               429.39                                NaN   \n",
       "4                                15.91                                NaN   \n",
       "\n",
       "   Nuclear Generation Estimated (in MU)  Hydro Generation Actual (in MU)  \\\n",
       "0                                 35.57                           273.27   \n",
       "1                                  3.81                            72.00   \n",
       "2                                 49.80                           111.57   \n",
       "3                                   NaN                            85.94   \n",
       "4                                   NaN                            24.64   \n",
       "\n",
       "   Hydro Generation Estimated (in MU)  \n",
       "0                              320.81  \n",
       "1                               21.53  \n",
       "2                               64.78  \n",
       "3                               69.36  \n",
       "4                               21.21  "
      ]
     },
     "execution_count": 4,
     "metadata": {},
     "output_type": "execute_result"
    }
   ],
   "source": [
    "df=pd.read_csv(\"file_02.csv\")\n",
    "df.head()"
   ]
  },
  {
   "cell_type": "code",
   "execution_count": 22,
   "id": "1d5dbe9f",
   "metadata": {},
   "outputs": [
    {
     "data": {
      "text/plain": [
       "(4945, 8)"
      ]
     },
     "execution_count": 22,
     "metadata": {},
     "output_type": "execute_result"
    }
   ],
   "source": [
    "df.shape"
   ]
  },
  {
   "cell_type": "code",
   "execution_count": 5,
   "id": "376d1ca3",
   "metadata": {},
   "outputs": [
    {
     "name": "stdout",
     "output_type": "stream",
     "text": [
      "<class 'pandas.core.frame.DataFrame'>\n",
      "RangeIndex: 4945 entries, 0 to 4944\n",
      "Data columns (total 9 columns):\n",
      " #   Column                                Non-Null Count  Dtype  \n",
      "---  ------                                --------------  -----  \n",
      " 0   index                                 4945 non-null   int64  \n",
      " 1   Date                                  4945 non-null   object \n",
      " 2   Region                                4945 non-null   object \n",
      " 3   Thermal Generation Actual (in MU)     4945 non-null   object \n",
      " 4   Thermal Generation Estimated (in MU)  4945 non-null   object \n",
      " 5   Nuclear Generation Actual (in MU)     2967 non-null   float64\n",
      " 6   Nuclear Generation Estimated (in MU)  2967 non-null   float64\n",
      " 7   Hydro Generation Actual (in MU)       4945 non-null   float64\n",
      " 8   Hydro Generation Estimated (in MU)    4945 non-null   float64\n",
      "dtypes: float64(4), int64(1), object(4)\n",
      "memory usage: 347.8+ KB\n"
     ]
    }
   ],
   "source": [
    "df.info()"
   ]
  },
  {
   "cell_type": "markdown",
   "id": "c744c1cb",
   "metadata": {},
   "source": [
    "### there are 1978 null values in nuclear columns,we can replace it with mean."
   ]
  },
  {
   "cell_type": "code",
   "execution_count": 6,
   "id": "a1180685",
   "metadata": {},
   "outputs": [],
   "source": [
    "mn1=df[\"Nuclear Generation Actual (in MU)\"].mean()\n",
    "df[\"Nuclear Generation Actual (in MU)\"].fillna(mn1,inplace=True)\n",
    "\n",
    "mn2=df[\"Nuclear Generation Estimated (in MU)\"].mean()\n",
    "df[\"Nuclear Generation Estimated (in MU)\"].fillna(mn2,inplace=True)"
   ]
  },
  {
   "cell_type": "code",
   "execution_count": 7,
   "id": "d7ddbae9",
   "metadata": {},
   "outputs": [
    {
     "name": "stdout",
     "output_type": "stream",
     "text": [
      "<class 'pandas.core.frame.DataFrame'>\n",
      "RangeIndex: 4945 entries, 0 to 4944\n",
      "Data columns (total 9 columns):\n",
      " #   Column                                Non-Null Count  Dtype  \n",
      "---  ------                                --------------  -----  \n",
      " 0   index                                 4945 non-null   int64  \n",
      " 1   Date                                  4945 non-null   object \n",
      " 2   Region                                4945 non-null   object \n",
      " 3   Thermal Generation Actual (in MU)     4945 non-null   object \n",
      " 4   Thermal Generation Estimated (in MU)  4945 non-null   object \n",
      " 5   Nuclear Generation Actual (in MU)     4945 non-null   float64\n",
      " 6   Nuclear Generation Estimated (in MU)  4945 non-null   float64\n",
      " 7   Hydro Generation Actual (in MU)       4945 non-null   float64\n",
      " 8   Hydro Generation Estimated (in MU)    4945 non-null   float64\n",
      "dtypes: float64(4), int64(1), object(4)\n",
      "memory usage: 347.8+ KB\n"
     ]
    }
   ],
   "source": [
    "df.info()"
   ]
  },
  {
   "cell_type": "markdown",
   "id": "8cfa3e38",
   "metadata": {},
   "source": [
    "### index column is not useful in analysis we can drop it."
   ]
  },
  {
   "cell_type": "code",
   "execution_count": 8,
   "id": "d797fb94",
   "metadata": {},
   "outputs": [],
   "source": [
    "df.drop(\"index\",axis=1,inplace=True)"
   ]
  },
  {
   "cell_type": "code",
   "execution_count": 9,
   "id": "975fdadc",
   "metadata": {},
   "outputs": [
    {
     "name": "stdout",
     "output_type": "stream",
     "text": [
      "<class 'pandas.core.frame.DataFrame'>\n",
      "RangeIndex: 4945 entries, 0 to 4944\n",
      "Data columns (total 8 columns):\n",
      " #   Column                                Non-Null Count  Dtype  \n",
      "---  ------                                --------------  -----  \n",
      " 0   Date                                  4945 non-null   object \n",
      " 1   Region                                4945 non-null   object \n",
      " 2   Thermal Generation Actual (in MU)     4945 non-null   object \n",
      " 3   Thermal Generation Estimated (in MU)  4945 non-null   object \n",
      " 4   Nuclear Generation Actual (in MU)     4945 non-null   float64\n",
      " 5   Nuclear Generation Estimated (in MU)  4945 non-null   float64\n",
      " 6   Hydro Generation Actual (in MU)       4945 non-null   float64\n",
      " 7   Hydro Generation Estimated (in MU)    4945 non-null   float64\n",
      "dtypes: float64(4), object(4)\n",
      "memory usage: 309.2+ KB\n"
     ]
    }
   ],
   "source": [
    "df.info()\n"
   ]
  },
  {
   "cell_type": "markdown",
   "id": "f82a8b0b",
   "metadata": {},
   "source": [
    "### two columns with float values have different datatype"
   ]
  },
  {
   "cell_type": "code",
   "execution_count": 10,
   "id": "5e135ddc",
   "metadata": {},
   "outputs": [],
   "source": [
    "def changeflt(x):\n",
    "    if \",\" in x:\n",
    "        x=x.replace(\",\",\"\")\n",
    "        return float(x) \n",
    "    else:\n",
    "        return float(x) \n",
    "    \n",
    "df[\"Thermal Generation Estimated (in MU)\"]=df[\"Thermal Generation Estimated (in MU)\"].map(changeflt)\n"
   ]
  },
  {
   "cell_type": "code",
   "execution_count": 11,
   "id": "88100cfa",
   "metadata": {},
   "outputs": [],
   "source": [
    "df[\"Thermal Generation Actual (in MU)\"]=df[\"Thermal Generation Actual (in MU)\"].map(changeflt)"
   ]
  },
  {
   "cell_type": "code",
   "execution_count": 12,
   "id": "1c7171a6",
   "metadata": {},
   "outputs": [
    {
     "name": "stdout",
     "output_type": "stream",
     "text": [
      "<class 'pandas.core.frame.DataFrame'>\n",
      "RangeIndex: 4945 entries, 0 to 4944\n",
      "Data columns (total 8 columns):\n",
      " #   Column                                Non-Null Count  Dtype  \n",
      "---  ------                                --------------  -----  \n",
      " 0   Date                                  4945 non-null   object \n",
      " 1   Region                                4945 non-null   object \n",
      " 2   Thermal Generation Actual (in MU)     4945 non-null   float64\n",
      " 3   Thermal Generation Estimated (in MU)  4945 non-null   float64\n",
      " 4   Nuclear Generation Actual (in MU)     4945 non-null   float64\n",
      " 5   Nuclear Generation Estimated (in MU)  4945 non-null   float64\n",
      " 6   Hydro Generation Actual (in MU)       4945 non-null   float64\n",
      " 7   Hydro Generation Estimated (in MU)    4945 non-null   float64\n",
      "dtypes: float64(6), object(2)\n",
      "memory usage: 309.2+ KB\n"
     ]
    }
   ],
   "source": [
    "df.info()"
   ]
  },
  {
   "cell_type": "markdown",
   "id": "42fb556a",
   "metadata": {},
   "source": [
    "### maximum power generated by which power plant ?"
   ]
  },
  {
   "cell_type": "code",
   "execution_count": 13,
   "id": "dbd0b24a",
   "metadata": {},
   "outputs": [
    {
     "name": "stdout",
     "output_type": "stream",
     "text": [
      "average power generated through thermal power plants 603.9783579373077\n",
      "average power generated through Nuclear power plants 37.242207617121224\n",
      "average power generated through Hydro power plants 73.30592113245689\n"
     ]
    }
   ],
   "source": [
    "avg1=df[\"Thermal Generation Actual (in MU)\"].mean()\n",
    "print(\"average power generated through thermal power plants\",avg1)\n",
    "\n",
    "avg2=df[\"Nuclear Generation Actual (in MU)\"].mean()\n",
    "print(\"average power generated through Nuclear power plants\",avg2)\n",
    "\n",
    "avg3=df[\"Hydro Generation Actual (in MU)\"].mean()\n",
    "print(\"average power generated through Hydro power plants\",avg3)\n"
   ]
  },
  {
   "cell_type": "code",
   "execution_count": 14,
   "id": "945b4a95",
   "metadata": {},
   "outputs": [
    {
     "name": "stdout",
     "output_type": "stream",
     "text": [
      "power generation throuth thermal power plants in percentage 84.52847713705235\n"
     ]
    }
   ],
   "source": [
    "per=avg1/(avg1+avg2+avg3)*100\n",
    "print(\"power generation throuth thermal power plants in percentage\",per)\n"
   ]
  },
  {
   "cell_type": "markdown",
   "id": "de63092c",
   "metadata": {},
   "source": [
    "##### from mean of the all resources we can conclude that most of the power in india generated through thermal power plants."
   ]
  },
  {
   "cell_type": "markdown",
   "id": "c5a941ec",
   "metadata": {},
   "source": [
    "###  in which region maximum  power generated through thermal power plant?"
   ]
  },
  {
   "cell_type": "code",
   "execution_count": 15,
   "id": "5d218a6a",
   "metadata": {},
   "outputs": [
    {
     "data": {
      "text/plain": [
       "3051    Western\n",
       "3056    Western\n",
       "3061    Western\n",
       "3066    Western\n",
       "3071    Western\n",
       "3076    Western\n",
       "3081    Western\n",
       "3086    Western\n",
       "3091    Western\n",
       "3096    Western\n",
       "3101    Western\n",
       "Name: Region, dtype: object"
      ]
     },
     "execution_count": 15,
     "metadata": {},
     "output_type": "execute_result"
    }
   ],
   "source": [
    "df[df[\"Thermal Generation Actual (in MU)\"]==df[\"Thermal Generation Actual (in MU)\"].max()][\"Region\"]"
   ]
  },
  {
   "cell_type": "markdown",
   "id": "fb224940",
   "metadata": {},
   "source": [
    "##### maximum power gwnerated throuth western region, most of the thermal power plants are located in western region."
   ]
  },
  {
   "cell_type": "markdown",
   "id": "e72de053",
   "metadata": {},
   "source": [
    "###  in which region maximum  power generated through nuclear power plant?"
   ]
  },
  {
   "cell_type": "code",
   "execution_count": 16,
   "id": "5232b298",
   "metadata": {},
   "outputs": [
    {
     "data": {
      "text/plain": [
       "1977    Southern\n",
       "1982    Southern\n",
       "1987    Southern\n",
       "1992    Southern\n",
       "1997    Southern\n",
       "2002    Southern\n",
       "2007    Southern\n",
       "2012    Southern\n",
       "2017    Southern\n",
       "2022    Southern\n",
       "2027    Southern\n",
       "2032    Southern\n",
       "2037    Southern\n",
       "2042    Southern\n",
       "2047    Southern\n",
       "2052    Southern\n",
       "2057    Southern\n",
       "2062    Southern\n",
       "2067    Southern\n",
       "2072    Southern\n",
       "2077    Southern\n",
       "2082    Southern\n",
       "2087    Southern\n",
       "2092    Southern\n",
       "2097    Southern\n",
       "2102    Southern\n",
       "2107    Southern\n",
       "2112    Southern\n",
       "2117    Southern\n",
       "Name: Region, dtype: object"
      ]
     },
     "execution_count": 16,
     "metadata": {},
     "output_type": "execute_result"
    }
   ],
   "source": [
    "df[df[\"Nuclear Generation Actual (in MU)\"]==df[\"Nuclear Generation Actual (in MU)\"].max()][\"Region\"]"
   ]
  },
  {
   "cell_type": "markdown",
   "id": "4c2eed4a",
   "metadata": {},
   "source": [
    "#### most of the nuclear power gwnerated throuth southern region, most of the nuclear power plants are located in southern region."
   ]
  },
  {
   "cell_type": "markdown",
   "id": "1e701a3a",
   "metadata": {},
   "source": [
    "###  in which region maximum  power generated through hydro power plant?"
   ]
  },
  {
   "cell_type": "code",
   "execution_count": 17,
   "id": "3e31972c",
   "metadata": {},
   "outputs": [
    {
     "data": {
      "text/plain": [
       "4940    Northern\n",
       "Name: Region, dtype: object"
      ]
     },
     "execution_count": 17,
     "metadata": {},
     "output_type": "execute_result"
    }
   ],
   "source": [
    "\n",
    "df[df[\"Hydro Generation Actual (in MU)\"]==df[\"Hydro Generation Actual (in MU)\"].max()][\"Region\"]\n",
    "#maximum power generated through hydro power plant is from nothern region."
   ]
  },
  {
   "cell_type": "markdown",
   "id": "145c9de5",
   "metadata": {},
   "source": [
    "### difference in expected and actual power generation through all power plants"
   ]
  },
  {
   "cell_type": "code",
   "execution_count": 18,
   "id": "a2ea255e",
   "metadata": {},
   "outputs": [
    {
     "data": {
      "text/plain": [
       "-28.583241658234215"
      ]
     },
     "execution_count": 18,
     "metadata": {},
     "output_type": "execute_result"
    }
   ],
   "source": [
    "#difference in estimated and actual power generation through thermal power plants.\n",
    "ans1=(df[\"Thermal Generation Estimated (in MU)\"].mean())-(df[\"Thermal Generation Actual (in MU)\"].mean())\n",
    "ans1"
   ]
  },
  {
   "cell_type": "code",
   "execution_count": 19,
   "id": "39bd222b",
   "metadata": {},
   "outputs": [
    {
     "data": {
      "text/plain": [
       "-0.2543309740467734"
      ]
     },
     "execution_count": 19,
     "metadata": {},
     "output_type": "execute_result"
    }
   ],
   "source": [
    "#difference in estimated and actual power generation through nuclear power plants.\n",
    "ans2=(df[\"Nuclear Generation Estimated (in MU)\"].mean())-(df[\"Nuclear Generation Actual (in MU)\"].mean())\n",
    "ans2"
   ]
  },
  {
   "cell_type": "code",
   "execution_count": 20,
   "id": "a91bddd1",
   "metadata": {},
   "outputs": [
    {
     "data": {
      "text/plain": [
       "3.5370434782610403"
      ]
     },
     "execution_count": 20,
     "metadata": {},
     "output_type": "execute_result"
    }
   ],
   "source": [
    "#difference in estimated and actual power generation through hydro power plants.\n",
    "ans3=(df[\"Hydro Generation Estimated (in MU)\"].mean())-(df[\"Hydro Generation Actual (in MU)\"].mean())\n",
    "ans3"
   ]
  },
  {
   "cell_type": "raw",
   "id": "6e618ec7",
   "metadata": {},
   "source": [
    ">from difference in estimated and actual power generation, we can conclude that thermal power plants generated more power\n",
    "than estimated.\n",
    ">nuclear power plants genereted power almost nearby estimation.\n",
    ">but in hydro power plan power generation there is slight gap in estimated and actual,they produced power less than estimation."
   ]
  },
  {
   "cell_type": "markdown",
   "id": "493b643f",
   "metadata": {},
   "source": [
    "### graphical representation of power generation "
   ]
  },
  {
   "cell_type": "code",
   "execution_count": 21,
   "id": "7b653ac6",
   "metadata": {},
   "outputs": [
    {
     "data": {
      "image/png": "[encoded data removed]",
      "text/plain": [
       "<Figure size 432x288 with 1 Axes>"
      ]
     },
     "metadata": {},
     "output_type": "display_data"
    }
   ],
   "source": [
    "d=[avg1,avg2,avg3]\n",
    "types=[\"Thermal\",\"Nuclear\",\"Hydro\"]\n",
    "cols=[\"r\",\"y\",\"c\"]\n",
    "plt.pie(d, labels=types, colors=cols, explode=(0.1,0,0),autopct=\"%1.2f%%\")\n",
    "plt.legend()\n",
    "plt.show()"
   ]
  },
  {
   "cell_type": "code",
   "execution_count": null,
   "id": "e56106f0",
   "metadata": {},
   "outputs": [],
   "source": []
  }
 ],
 "metadata": {
  "kernelspec": {
   "display_name": "Python 3 (ipykernel)",
   "language": "python",
   "name": "python3"
  },
  "language_info": {
   "codemirror_mode": {
    "name": "ipython",
    "version": 3
   },
   "file_extension": ".py",
   "mimetype": "text/x-python",
   "name": "python",
   "nbconvert_exporter": "python",
   "pygments_lexer": "ipython3",
   "version": "3.9.7"
  }
 },
 "nbformat": 4,
 "nbformat_minor": 5
}
